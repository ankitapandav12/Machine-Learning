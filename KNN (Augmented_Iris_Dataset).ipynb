{
 "cells": [
  {
   "cell_type": "code",
   "execution_count": 1,
   "metadata": {},
   "outputs": [],
   "source": [
    "import numpy as np\n",
    "import pandas as pd"
   ]
  },
  {
   "cell_type": "code",
   "execution_count": 2,
   "metadata": {},
   "outputs": [
    {
     "data": {
      "text/html": [
       "<div>\n",
       "<style scoped>\n",
       "    .dataframe tbody tr th:only-of-type {\n",
       "        vertical-align: middle;\n",
       "    }\n",
       "\n",
       "    .dataframe tbody tr th {\n",
       "        vertical-align: top;\n",
       "    }\n",
       "\n",
       "    .dataframe thead th {\n",
       "        text-align: right;\n",
       "    }\n",
       "</style>\n",
       "<table border=\"1\" class=\"dataframe\">\n",
       "  <thead>\n",
       "    <tr style=\"text-align: right;\">\n",
       "      <th></th>\n",
       "      <th>Id</th>\n",
       "      <th>SepalLengthCm</th>\n",
       "      <th>SepalWidthCm</th>\n",
       "      <th>PetalLengthCm</th>\n",
       "      <th>PetalWidthCm</th>\n",
       "      <th>Species</th>\n",
       "    </tr>\n",
       "  </thead>\n",
       "  <tbody>\n",
       "    <tr>\n",
       "      <th>0</th>\n",
       "      <td>8.580114</td>\n",
       "      <td>7.411803</td>\n",
       "      <td>2.435236</td>\n",
       "      <td>1.236291</td>\n",
       "      <td>0.395102</td>\n",
       "      <td>Iris-setosa</td>\n",
       "    </tr>\n",
       "    <tr>\n",
       "      <th>1</th>\n",
       "      <td>79.332857</td>\n",
       "      <td>6.150941</td>\n",
       "      <td>2.058516</td>\n",
       "      <td>4.249965</td>\n",
       "      <td>-0.045997</td>\n",
       "      <td>Iris-setosa</td>\n",
       "    </tr>\n",
       "    <tr>\n",
       "      <th>2</th>\n",
       "      <td>53.078406</td>\n",
       "      <td>6.444759</td>\n",
       "      <td>3.484995</td>\n",
       "      <td>0.446859</td>\n",
       "      <td>0.708402</td>\n",
       "      <td>Iris-setosa</td>\n",
       "    </tr>\n",
       "    <tr>\n",
       "      <th>3</th>\n",
       "      <td>61.691342</td>\n",
       "      <td>6.605249</td>\n",
       "      <td>2.324837</td>\n",
       "      <td>0.308108</td>\n",
       "      <td>0.012925</td>\n",
       "      <td>Iris-setosa</td>\n",
       "    </tr>\n",
       "    <tr>\n",
       "      <th>4</th>\n",
       "      <td>68.423709</td>\n",
       "      <td>5.663883</td>\n",
       "      <td>3.030080</td>\n",
       "      <td>1.279134</td>\n",
       "      <td>2.374453</td>\n",
       "      <td>Iris-versicolor</td>\n",
       "    </tr>\n",
       "    <tr>\n",
       "      <th>...</th>\n",
       "      <td>...</td>\n",
       "      <td>...</td>\n",
       "      <td>...</td>\n",
       "      <td>...</td>\n",
       "      <td>...</td>\n",
       "      <td>...</td>\n",
       "    </tr>\n",
       "    <tr>\n",
       "      <th>999995</th>\n",
       "      <td>119.268226</td>\n",
       "      <td>8.616395</td>\n",
       "      <td>2.504599</td>\n",
       "      <td>0.301577</td>\n",
       "      <td>-0.269477</td>\n",
       "      <td>Iris-versicolor</td>\n",
       "    </tr>\n",
       "    <tr>\n",
       "      <th>999996</th>\n",
       "      <td>3.002019</td>\n",
       "      <td>7.359680</td>\n",
       "      <td>2.822294</td>\n",
       "      <td>2.721681</td>\n",
       "      <td>0.933512</td>\n",
       "      <td>Iris-setosa</td>\n",
       "    </tr>\n",
       "    <tr>\n",
       "      <th>999997</th>\n",
       "      <td>36.225178</td>\n",
       "      <td>4.638105</td>\n",
       "      <td>2.558795</td>\n",
       "      <td>2.996104</td>\n",
       "      <td>0.747206</td>\n",
       "      <td>Iris-setosa</td>\n",
       "    </tr>\n",
       "    <tr>\n",
       "      <th>999998</th>\n",
       "      <td>44.642670</td>\n",
       "      <td>8.597138</td>\n",
       "      <td>2.199136</td>\n",
       "      <td>1.997171</td>\n",
       "      <td>0.071688</td>\n",
       "      <td>Iris-setosa</td>\n",
       "    </tr>\n",
       "    <tr>\n",
       "      <th>999999</th>\n",
       "      <td>44.021513</td>\n",
       "      <td>5.569974</td>\n",
       "      <td>2.565549</td>\n",
       "      <td>0.849239</td>\n",
       "      <td>-0.230247</td>\n",
       "      <td>Iris-setosa</td>\n",
       "    </tr>\n",
       "  </tbody>\n",
       "</table>\n",
       "<p>1000000 rows × 6 columns</p>\n",
       "</div>"
      ],
      "text/plain": [
       "                Id  SepalLengthCm  SepalWidthCm  PetalLengthCm  PetalWidthCm  \\\n",
       "0         8.580114       7.411803      2.435236       1.236291      0.395102   \n",
       "1        79.332857       6.150941      2.058516       4.249965     -0.045997   \n",
       "2        53.078406       6.444759      3.484995       0.446859      0.708402   \n",
       "3        61.691342       6.605249      2.324837       0.308108      0.012925   \n",
       "4        68.423709       5.663883      3.030080       1.279134      2.374453   \n",
       "...            ...            ...           ...            ...           ...   \n",
       "999995  119.268226       8.616395      2.504599       0.301577     -0.269477   \n",
       "999996    3.002019       7.359680      2.822294       2.721681      0.933512   \n",
       "999997   36.225178       4.638105      2.558795       2.996104      0.747206   \n",
       "999998   44.642670       8.597138      2.199136       1.997171      0.071688   \n",
       "999999   44.021513       5.569974      2.565549       0.849239     -0.230247   \n",
       "\n",
       "                Species  \n",
       "0           Iris-setosa  \n",
       "1           Iris-setosa  \n",
       "2           Iris-setosa  \n",
       "3           Iris-setosa  \n",
       "4       Iris-versicolor  \n",
       "...                 ...  \n",
       "999995  Iris-versicolor  \n",
       "999996      Iris-setosa  \n",
       "999997      Iris-setosa  \n",
       "999998      Iris-setosa  \n",
       "999999      Iris-setosa  \n",
       "\n",
       "[1000000 rows x 6 columns]"
      ]
     },
     "execution_count": 2,
     "metadata": {},
     "output_type": "execute_result"
    }
   ],
   "source": [
    "data=pd.read_csv(r\"C:\\Users\\Sushant\\Desktop\\Datasets\\Augmented_Iris.csv\")\n",
    "data"
   ]
  },
  {
   "cell_type": "code",
   "execution_count": 3,
   "metadata": {},
   "outputs": [
    {
     "name": "stdout",
     "output_type": "stream",
     "text": [
      "<class 'pandas.core.frame.DataFrame'>\n",
      "RangeIndex: 1000000 entries, 0 to 999999\n",
      "Data columns (total 6 columns):\n",
      " #   Column         Non-Null Count    Dtype  \n",
      "---  ------         --------------    -----  \n",
      " 0   Id             1000000 non-null  float64\n",
      " 1   SepalLengthCm  1000000 non-null  float64\n",
      " 2   SepalWidthCm   1000000 non-null  float64\n",
      " 3   PetalLengthCm  1000000 non-null  float64\n",
      " 4   PetalWidthCm   1000000 non-null  float64\n",
      " 5   Species        1000000 non-null  object \n",
      "dtypes: float64(5), object(1)\n",
      "memory usage: 45.8+ MB\n"
     ]
    }
   ],
   "source": [
    "data.info()"
   ]
  },
  {
   "cell_type": "code",
   "execution_count": 4,
   "metadata": {},
   "outputs": [
    {
     "data": {
      "text/plain": [
       "Id               0\n",
       "SepalLengthCm    0\n",
       "SepalWidthCm     0\n",
       "PetalLengthCm    0\n",
       "PetalWidthCm     0\n",
       "Species          0\n",
       "dtype: int64"
      ]
     },
     "execution_count": 4,
     "metadata": {},
     "output_type": "execute_result"
    }
   ],
   "source": [
    "data.isnull().sum()"
   ]
  },
  {
   "cell_type": "code",
   "execution_count": 5,
   "metadata": {},
   "outputs": [],
   "source": [
    "from sklearn.preprocessing import LabelEncoder\n",
    "l1=LabelEncoder()\n",
    "data[\"Species\"]=l1.fit_transform(data[\"Species\"])"
   ]
  },
  {
   "cell_type": "code",
   "execution_count": 6,
   "metadata": {},
   "outputs": [
    {
     "data": {
      "text/html": [
       "<div>\n",
       "<style scoped>\n",
       "    .dataframe tbody tr th:only-of-type {\n",
       "        vertical-align: middle;\n",
       "    }\n",
       "\n",
       "    .dataframe tbody tr th {\n",
       "        vertical-align: top;\n",
       "    }\n",
       "\n",
       "    .dataframe thead th {\n",
       "        text-align: right;\n",
       "    }\n",
       "</style>\n",
       "<table border=\"1\" class=\"dataframe\">\n",
       "  <thead>\n",
       "    <tr style=\"text-align: right;\">\n",
       "      <th></th>\n",
       "      <th>Id</th>\n",
       "      <th>SepalLengthCm</th>\n",
       "      <th>SepalWidthCm</th>\n",
       "      <th>PetalLengthCm</th>\n",
       "      <th>PetalWidthCm</th>\n",
       "      <th>Species</th>\n",
       "    </tr>\n",
       "  </thead>\n",
       "  <tbody>\n",
       "    <tr>\n",
       "      <th>0</th>\n",
       "      <td>8.580114</td>\n",
       "      <td>7.411803</td>\n",
       "      <td>2.435236</td>\n",
       "      <td>1.236291</td>\n",
       "      <td>0.395102</td>\n",
       "      <td>0</td>\n",
       "    </tr>\n",
       "    <tr>\n",
       "      <th>1</th>\n",
       "      <td>79.332857</td>\n",
       "      <td>6.150941</td>\n",
       "      <td>2.058516</td>\n",
       "      <td>4.249965</td>\n",
       "      <td>-0.045997</td>\n",
       "      <td>0</td>\n",
       "    </tr>\n",
       "    <tr>\n",
       "      <th>2</th>\n",
       "      <td>53.078406</td>\n",
       "      <td>6.444759</td>\n",
       "      <td>3.484995</td>\n",
       "      <td>0.446859</td>\n",
       "      <td>0.708402</td>\n",
       "      <td>0</td>\n",
       "    </tr>\n",
       "    <tr>\n",
       "      <th>3</th>\n",
       "      <td>61.691342</td>\n",
       "      <td>6.605249</td>\n",
       "      <td>2.324837</td>\n",
       "      <td>0.308108</td>\n",
       "      <td>0.012925</td>\n",
       "      <td>0</td>\n",
       "    </tr>\n",
       "    <tr>\n",
       "      <th>4</th>\n",
       "      <td>68.423709</td>\n",
       "      <td>5.663883</td>\n",
       "      <td>3.030080</td>\n",
       "      <td>1.279134</td>\n",
       "      <td>2.374453</td>\n",
       "      <td>1</td>\n",
       "    </tr>\n",
       "    <tr>\n",
       "      <th>...</th>\n",
       "      <td>...</td>\n",
       "      <td>...</td>\n",
       "      <td>...</td>\n",
       "      <td>...</td>\n",
       "      <td>...</td>\n",
       "      <td>...</td>\n",
       "    </tr>\n",
       "    <tr>\n",
       "      <th>999995</th>\n",
       "      <td>119.268226</td>\n",
       "      <td>8.616395</td>\n",
       "      <td>2.504599</td>\n",
       "      <td>0.301577</td>\n",
       "      <td>-0.269477</td>\n",
       "      <td>1</td>\n",
       "    </tr>\n",
       "    <tr>\n",
       "      <th>999996</th>\n",
       "      <td>3.002019</td>\n",
       "      <td>7.359680</td>\n",
       "      <td>2.822294</td>\n",
       "      <td>2.721681</td>\n",
       "      <td>0.933512</td>\n",
       "      <td>0</td>\n",
       "    </tr>\n",
       "    <tr>\n",
       "      <th>999997</th>\n",
       "      <td>36.225178</td>\n",
       "      <td>4.638105</td>\n",
       "      <td>2.558795</td>\n",
       "      <td>2.996104</td>\n",
       "      <td>0.747206</td>\n",
       "      <td>0</td>\n",
       "    </tr>\n",
       "    <tr>\n",
       "      <th>999998</th>\n",
       "      <td>44.642670</td>\n",
       "      <td>8.597138</td>\n",
       "      <td>2.199136</td>\n",
       "      <td>1.997171</td>\n",
       "      <td>0.071688</td>\n",
       "      <td>0</td>\n",
       "    </tr>\n",
       "    <tr>\n",
       "      <th>999999</th>\n",
       "      <td>44.021513</td>\n",
       "      <td>5.569974</td>\n",
       "      <td>2.565549</td>\n",
       "      <td>0.849239</td>\n",
       "      <td>-0.230247</td>\n",
       "      <td>0</td>\n",
       "    </tr>\n",
       "  </tbody>\n",
       "</table>\n",
       "<p>1000000 rows × 6 columns</p>\n",
       "</div>"
      ],
      "text/plain": [
       "                Id  SepalLengthCm  SepalWidthCm  PetalLengthCm  PetalWidthCm  \\\n",
       "0         8.580114       7.411803      2.435236       1.236291      0.395102   \n",
       "1        79.332857       6.150941      2.058516       4.249965     -0.045997   \n",
       "2        53.078406       6.444759      3.484995       0.446859      0.708402   \n",
       "3        61.691342       6.605249      2.324837       0.308108      0.012925   \n",
       "4        68.423709       5.663883      3.030080       1.279134      2.374453   \n",
       "...            ...            ...           ...            ...           ...   \n",
       "999995  119.268226       8.616395      2.504599       0.301577     -0.269477   \n",
       "999996    3.002019       7.359680      2.822294       2.721681      0.933512   \n",
       "999997   36.225178       4.638105      2.558795       2.996104      0.747206   \n",
       "999998   44.642670       8.597138      2.199136       1.997171      0.071688   \n",
       "999999   44.021513       5.569974      2.565549       0.849239     -0.230247   \n",
       "\n",
       "        Species  \n",
       "0             0  \n",
       "1             0  \n",
       "2             0  \n",
       "3             0  \n",
       "4             1  \n",
       "...         ...  \n",
       "999995        1  \n",
       "999996        0  \n",
       "999997        0  \n",
       "999998        0  \n",
       "999999        0  \n",
       "\n",
       "[1000000 rows x 6 columns]"
      ]
     },
     "execution_count": 6,
     "metadata": {},
     "output_type": "execute_result"
    }
   ],
   "source": [
    "data"
   ]
  },
  {
   "cell_type": "code",
   "execution_count": 7,
   "metadata": {},
   "outputs": [],
   "source": [
    "x=data.iloc[:,:-1].values\n",
    "y=data.iloc[:,-1].values"
   ]
  },
  {
   "cell_type": "code",
   "execution_count": 8,
   "metadata": {},
   "outputs": [],
   "source": [
    "from sklearn.model_selection import train_test_split\n",
    "x_train,x_test,y_train,y_test=train_test_split(x,y,test_size=0.2,random_state=0)"
   ]
  },
  {
   "cell_type": "code",
   "execution_count": 9,
   "metadata": {},
   "outputs": [
    {
     "data": {
      "text/plain": [
       "KNeighborsClassifier()"
      ]
     },
     "execution_count": 9,
     "metadata": {},
     "output_type": "execute_result"
    }
   ],
   "source": [
    "from sklearn.neighbors import KNeighborsClassifier\n",
    "classifier = KNeighborsClassifier(n_neighbors = 5, metric = 'minkowski', p = 2)\n",
    "classifier.fit(x_train, y_train)"
   ]
  },
  {
   "cell_type": "code",
   "execution_count": 10,
   "metadata": {},
   "outputs": [
    {
     "data": {
      "text/plain": [
       "array([2, 2, 0, ..., 0, 1, 0])"
      ]
     },
     "execution_count": 10,
     "metadata": {},
     "output_type": "execute_result"
    }
   ],
   "source": [
    "y_pred=classifier.predict(x_test)\n",
    "y_pred"
   ]
  },
  {
   "cell_type": "code",
   "execution_count": 11,
   "metadata": {},
   "outputs": [
    {
     "data": {
      "text/plain": [
       "34.8235"
      ]
     },
     "execution_count": 11,
     "metadata": {},
     "output_type": "execute_result"
    }
   ],
   "source": [
    "ab=classifier.score(x_test,y_test)*100\n",
    "ab"
   ]
  }
 ],
 "metadata": {
  "kernelspec": {
   "display_name": "Python 3",
   "language": "python",
   "name": "python3"
  },
  "language_info": {
   "codemirror_mode": {
    "name": "ipython",
    "version": 3
   },
   "file_extension": ".py",
   "mimetype": "text/x-python",
   "name": "python",
   "nbconvert_exporter": "python",
   "pygments_lexer": "ipython3",
   "version": "3.7.6"
  }
 },
 "nbformat": 4,
 "nbformat_minor": 4
}

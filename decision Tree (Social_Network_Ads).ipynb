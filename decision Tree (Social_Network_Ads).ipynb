{
 "cells": [
  {
   "cell_type": "code",
   "execution_count": 1,
   "metadata": {},
   "outputs": [],
   "source": [
    "import pandas as pd\n",
    "import numpy as np"
   ]
  },
  {
   "cell_type": "code",
   "execution_count": 2,
   "metadata": {},
   "outputs": [
    {
     "data": {
      "text/html": [
       "<div>\n",
       "<style scoped>\n",
       "    .dataframe tbody tr th:only-of-type {\n",
       "        vertical-align: middle;\n",
       "    }\n",
       "\n",
       "    .dataframe tbody tr th {\n",
       "        vertical-align: top;\n",
       "    }\n",
       "\n",
       "    .dataframe thead th {\n",
       "        text-align: right;\n",
       "    }\n",
       "</style>\n",
       "<table border=\"1\" class=\"dataframe\">\n",
       "  <thead>\n",
       "    <tr style=\"text-align: right;\">\n",
       "      <th></th>\n",
       "      <th>Age</th>\n",
       "      <th>EstimatedSalary</th>\n",
       "      <th>Purchased</th>\n",
       "    </tr>\n",
       "  </thead>\n",
       "  <tbody>\n",
       "    <tr>\n",
       "      <th>0</th>\n",
       "      <td>19</td>\n",
       "      <td>19000</td>\n",
       "      <td>0</td>\n",
       "    </tr>\n",
       "    <tr>\n",
       "      <th>1</th>\n",
       "      <td>35</td>\n",
       "      <td>20000</td>\n",
       "      <td>0</td>\n",
       "    </tr>\n",
       "    <tr>\n",
       "      <th>2</th>\n",
       "      <td>26</td>\n",
       "      <td>43000</td>\n",
       "      <td>0</td>\n",
       "    </tr>\n",
       "    <tr>\n",
       "      <th>3</th>\n",
       "      <td>27</td>\n",
       "      <td>57000</td>\n",
       "      <td>0</td>\n",
       "    </tr>\n",
       "    <tr>\n",
       "      <th>4</th>\n",
       "      <td>19</td>\n",
       "      <td>76000</td>\n",
       "      <td>0</td>\n",
       "    </tr>\n",
       "    <tr>\n",
       "      <th>...</th>\n",
       "      <td>...</td>\n",
       "      <td>...</td>\n",
       "      <td>...</td>\n",
       "    </tr>\n",
       "    <tr>\n",
       "      <th>395</th>\n",
       "      <td>46</td>\n",
       "      <td>41000</td>\n",
       "      <td>1</td>\n",
       "    </tr>\n",
       "    <tr>\n",
       "      <th>396</th>\n",
       "      <td>51</td>\n",
       "      <td>23000</td>\n",
       "      <td>1</td>\n",
       "    </tr>\n",
       "    <tr>\n",
       "      <th>397</th>\n",
       "      <td>50</td>\n",
       "      <td>20000</td>\n",
       "      <td>1</td>\n",
       "    </tr>\n",
       "    <tr>\n",
       "      <th>398</th>\n",
       "      <td>36</td>\n",
       "      <td>33000</td>\n",
       "      <td>0</td>\n",
       "    </tr>\n",
       "    <tr>\n",
       "      <th>399</th>\n",
       "      <td>49</td>\n",
       "      <td>36000</td>\n",
       "      <td>1</td>\n",
       "    </tr>\n",
       "  </tbody>\n",
       "</table>\n",
       "<p>400 rows × 3 columns</p>\n",
       "</div>"
      ],
      "text/plain": [
       "     Age  EstimatedSalary  Purchased\n",
       "0     19            19000          0\n",
       "1     35            20000          0\n",
       "2     26            43000          0\n",
       "3     27            57000          0\n",
       "4     19            76000          0\n",
       "..   ...              ...        ...\n",
       "395   46            41000          1\n",
       "396   51            23000          1\n",
       "397   50            20000          1\n",
       "398   36            33000          0\n",
       "399   49            36000          1\n",
       "\n",
       "[400 rows x 3 columns]"
      ]
     },
     "execution_count": 2,
     "metadata": {},
     "output_type": "execute_result"
    }
   ],
   "source": [
    "dataset=pd.read_csv(r\"C:\\Users\\Sushant\\Desktop\\Ankita\\Datasets\\Social_Network_Ads.csv\")\n",
    "dataset"
   ]
  },
  {
   "cell_type": "code",
   "execution_count": 3,
   "metadata": {},
   "outputs": [
    {
     "name": "stdout",
     "output_type": "stream",
     "text": [
      "<class 'pandas.core.frame.DataFrame'>\n",
      "RangeIndex: 400 entries, 0 to 399\n",
      "Data columns (total 3 columns):\n",
      " #   Column           Non-Null Count  Dtype\n",
      "---  ------           --------------  -----\n",
      " 0   Age              400 non-null    int64\n",
      " 1   EstimatedSalary  400 non-null    int64\n",
      " 2   Purchased        400 non-null    int64\n",
      "dtypes: int64(3)\n",
      "memory usage: 9.5 KB\n"
     ]
    }
   ],
   "source": [
    "dataset.info()"
   ]
  },
  {
   "cell_type": "code",
   "execution_count": 4,
   "metadata": {},
   "outputs": [
    {
     "data": {
      "text/plain": [
       "Age                0\n",
       "EstimatedSalary    0\n",
       "Purchased          0\n",
       "dtype: int64"
      ]
     },
     "execution_count": 4,
     "metadata": {},
     "output_type": "execute_result"
    }
   ],
   "source": [
    "dataset.isnull().sum()"
   ]
  },
  {
   "cell_type": "code",
   "execution_count": 5,
   "metadata": {},
   "outputs": [],
   "source": [
    "x=dataset.iloc[:,:-1].values\n",
    "y=dataset.iloc[:,-1].values"
   ]
  },
  {
   "cell_type": "markdown",
   "metadata": {},
   "source": [
    "# Imbalancing"
   ]
  },
  {
   "cell_type": "code",
   "execution_count": 6,
   "metadata": {},
   "outputs": [],
   "source": [
    "from imblearn.over_sampling import RandomOverSampler\n",
    "ro=RandomOverSampler()\n",
    "x_data,y_data=ro.fit_resample(x,y)"
   ]
  },
  {
   "cell_type": "code",
   "execution_count": 7,
   "metadata": {},
   "outputs": [
    {
     "name": "stdout",
     "output_type": "stream",
     "text": [
      "Actual data Counter({0: 257, 1: 143})\n",
      "Artificial Counter({0: 257, 1: 257})\n"
     ]
    }
   ],
   "source": [
    "from collections import Counter\n",
    "print(\"Actual data\",Counter(y))\n",
    "print(\"Artificial\",Counter(y_data))"
   ]
  },
  {
   "cell_type": "markdown",
   "metadata": {},
   "source": [
    "# Cross-Validation"
   ]
  },
  {
   "cell_type": "code",
   "execution_count": 8,
   "metadata": {},
   "outputs": [
    {
     "name": "stdout",
     "output_type": "stream",
     "text": [
      "KFold(n_splits=2, random_state=0, shuffle=True)\n"
     ]
    }
   ],
   "source": [
    "from sklearn.model_selection import KFold\n",
    "kf=KFold(n_splits=2,random_state=0,shuffle=True)\n",
    "kf.get_n_splits(x_data)\n",
    "print(kf)"
   ]
  },
  {
   "cell_type": "code",
   "execution_count": 9,
   "metadata": {},
   "outputs": [
    {
     "name": "stdout",
     "output_type": "stream",
     "text": [
      "TRAIN: [  0   3   9  11  13  16  19  23  24  25  27  28  29  31  32  33  35  36\n",
      "  38  39  40  41  42  43  44  47  48  50  53  57  58  61  62  67  69  70\n",
      "  72  73  77  79  80  82  83  84  86  87  88  91  94  95  98  99 104 105\n",
      " 109 110 111 115 117 119 121 123 125 127 128 129 130 131 133 138 139 143\n",
      " 147 148 149 151 152 156 161 163 165 166 169 174 177 178 180 182 183 184\n",
      " 185 187 189 192 193 197 199 201 202 203 204 207 209 211 212 214 215 216\n",
      " 217 218 222 223 226 227 228 232 234 237 242 243 244 248 251 256 257 258\n",
      " 259 260 262 265 266 267 269 270 273 274 275 277 279 280 285 286 287 288\n",
      " 290 291 292 294 295 296 300 304 305 307 314 317 321 323 324 328 331 333\n",
      " 334 335 337 338 341 343 344 348 349 350 351 352 354 355 356 358 359 360\n",
      " 361 362 367 368 369 370 371 373 376 377 382 383 384 387 388 389 390 396\n",
      " 397 398 399 404 407 408 410 411 414 420 423 425 427 430 431 432 434 435\n",
      " 438 442 443 445 448 449 450 451 453 454 458 459 460 461 462 464 465 466\n",
      " 471 472 474 478 479 482 483 484 485 486 489 492 494 495 496 499 500 502\n",
      " 503 504 506 507 512] TEST: [  1   2   4   5   6   7   8  10  12  14  15  17  18  20  21  22  26  30\n",
      "  34  37  45  46  49  51  52  54  55  56  59  60  63  64  65  66  68  71\n",
      "  74  75  76  78  81  85  89  90  92  93  96  97 100 101 102 103 106 107\n",
      " 108 112 113 114 116 118 120 122 124 126 132 134 135 136 137 140 141 142\n",
      " 144 145 146 150 153 154 155 157 158 159 160 162 164 167 168 170 171 172\n",
      " 173 175 176 179 181 186 188 190 191 194 195 196 198 200 205 206 208 210\n",
      " 213 219 220 221 224 225 229 230 231 233 235 236 238 239 240 241 245 246\n",
      " 247 249 250 252 253 254 255 261 263 264 268 271 272 276 278 281 282 283\n",
      " 284 289 293 297 298 299 301 302 303 306 308 309 310 311 312 313 315 316\n",
      " 318 319 320 322 325 326 327 329 330 332 336 339 340 342 345 346 347 353\n",
      " 357 363 364 365 366 372 374 375 378 379 380 381 385 386 391 392 393 394\n",
      " 395 400 401 402 403 405 406 409 412 413 415 416 417 418 419 421 422 424\n",
      " 426 428 429 433 436 437 439 440 441 444 446 447 452 455 456 457 463 467\n",
      " 468 469 470 473 475 476 477 480 481 487 488 490 491 493 497 498 501 505\n",
      " 508 509 510 511 513]\n",
      "TRAIN: [  1   2   4   5   6   7   8  10  12  14  15  17  18  20  21  22  26  30\n",
      "  34  37  45  46  49  51  52  54  55  56  59  60  63  64  65  66  68  71\n",
      "  74  75  76  78  81  85  89  90  92  93  96  97 100 101 102 103 106 107\n",
      " 108 112 113 114 116 118 120 122 124 126 132 134 135 136 137 140 141 142\n",
      " 144 145 146 150 153 154 155 157 158 159 160 162 164 167 168 170 171 172\n",
      " 173 175 176 179 181 186 188 190 191 194 195 196 198 200 205 206 208 210\n",
      " 213 219 220 221 224 225 229 230 231 233 235 236 238 239 240 241 245 246\n",
      " 247 249 250 252 253 254 255 261 263 264 268 271 272 276 278 281 282 283\n",
      " 284 289 293 297 298 299 301 302 303 306 308 309 310 311 312 313 315 316\n",
      " 318 319 320 322 325 326 327 329 330 332 336 339 340 342 345 346 347 353\n",
      " 357 363 364 365 366 372 374 375 378 379 380 381 385 386 391 392 393 394\n",
      " 395 400 401 402 403 405 406 409 412 413 415 416 417 418 419 421 422 424\n",
      " 426 428 429 433 436 437 439 440 441 444 446 447 452 455 456 457 463 467\n",
      " 468 469 470 473 475 476 477 480 481 487 488 490 491 493 497 498 501 505\n",
      " 508 509 510 511 513] TEST: [  0   3   9  11  13  16  19  23  24  25  27  28  29  31  32  33  35  36\n",
      "  38  39  40  41  42  43  44  47  48  50  53  57  58  61  62  67  69  70\n",
      "  72  73  77  79  80  82  83  84  86  87  88  91  94  95  98  99 104 105\n",
      " 109 110 111 115 117 119 121 123 125 127 128 129 130 131 133 138 139 143\n",
      " 147 148 149 151 152 156 161 163 165 166 169 174 177 178 180 182 183 184\n",
      " 185 187 189 192 193 197 199 201 202 203 204 207 209 211 212 214 215 216\n",
      " 217 218 222 223 226 227 228 232 234 237 242 243 244 248 251 256 257 258\n",
      " 259 260 262 265 266 267 269 270 273 274 275 277 279 280 285 286 287 288\n",
      " 290 291 292 294 295 296 300 304 305 307 314 317 321 323 324 328 331 333\n",
      " 334 335 337 338 341 343 344 348 349 350 351 352 354 355 356 358 359 360\n",
      " 361 362 367 368 369 370 371 373 376 377 382 383 384 387 388 389 390 396\n",
      " 397 398 399 404 407 408 410 411 414 420 423 425 427 430 431 432 434 435\n",
      " 438 442 443 445 448 449 450 451 453 454 458 459 460 461 462 464 465 466\n",
      " 471 472 474 478 479 482 483 484 485 486 489 492 494 495 496 499 500 502\n",
      " 503 504 506 507 512]\n"
     ]
    }
   ],
   "source": [
    "for train_index,test_index in kf.split(x_data):\n",
    "    print(\"TRAIN:\",train_index,\"TEST:\",test_index)\n",
    "    x_train,x_test=x_data[train_index],x_data[test_index]\n",
    "    y_train,y_test=y_data[train_index],y_data[test_index]"
   ]
  },
  {
   "cell_type": "code",
   "execution_count": 10,
   "metadata": {},
   "outputs": [
    {
     "name": "stdout",
     "output_type": "stream",
     "text": [
      "[0.84496124 0.8828125 ]\n",
      "86.38868701550388\n"
     ]
    },
    {
     "data": {
      "image/png": "[encoded data removed]",
      "text/plain": [
       "<Figure size 432x288 with 1 Axes>"
      ]
     },
     "metadata": {
      "needs_background": "light"
     },
     "output_type": "display_data"
    }
   ],
   "source": [
    "from sklearn import tree\n",
    "from sklearn.tree import DecisionTreeClassifier\n",
    "classifier=DecisionTreeClassifier(criterion=\"entropy\",random_state=0)\n",
    "classifier=classifier.fit(x_data,y_data)\n",
    "tree.plot_tree(classifier)\n",
    "\n",
    "from sklearn.model_selection import cross_val_score\n",
    "scores=cross_val_score(classifier,x_train,y_train,cv=kf)\n",
    "print(scores)\n",
    "print(np.mean(scores)*100)"
   ]
  },
  {
   "cell_type": "code",
   "execution_count": 12,
   "metadata": {},
   "outputs": [
    {
     "data": {
      "text/plain": [
       "array([0, 0, 0, 0, 0, 1, 1, 0, 1, 1, 1, 0, 0, 0, 0, 0, 0, 0, 0, 0, 0, 0,\n",
       "       1, 0, 0, 0, 0, 0, 0, 0, 0, 0, 0, 0, 0, 0, 0, 1, 0, 0, 0, 0, 0, 0,\n",
       "       0, 0, 0, 1, 0, 0, 0, 0, 0, 0, 0, 0, 0, 0, 0, 0, 0, 0, 0, 0, 0, 0,\n",
       "       0, 0, 0, 0, 0, 0, 0, 0, 0, 0, 0, 0, 0, 0, 0, 0, 0, 0, 0, 0, 0, 1,\n",
       "       0, 0, 0, 0, 0, 0, 0, 0, 0, 1, 1, 0, 1, 1, 1, 0, 1, 1, 1, 1, 0, 1,\n",
       "       1, 1, 1, 1, 0, 1, 1, 0, 1, 1, 0, 0, 0, 0, 0, 1, 0, 0, 1, 1, 1, 0,\n",
       "       0, 1, 1, 1, 1, 1, 1, 1, 0, 0, 1, 0, 1, 1, 1, 0, 0, 0, 1, 0, 0, 1,\n",
       "       0, 0, 1, 1, 1, 1, 1, 0, 1, 0, 0, 0, 0, 1, 1, 0, 0, 1, 0, 0, 0, 1,\n",
       "       1, 0, 0, 0, 1, 1, 0, 0, 1, 0, 1, 1, 0, 0, 0, 1, 1, 0, 1, 1, 1, 1,\n",
       "       1, 0, 1, 1, 1, 1, 1, 1, 1, 1, 1, 1, 1, 1, 1, 1, 0, 1, 0, 1, 1, 1,\n",
       "       1, 1, 1, 1, 1, 1, 1, 1, 1, 1, 0, 1, 1, 1, 1, 1, 1, 1, 1, 1, 0, 1,\n",
       "       1, 0, 1, 1, 1, 1, 1, 0, 1, 0, 1, 1, 1, 0, 1], dtype=int64)"
      ]
     },
     "execution_count": 12,
     "metadata": {},
     "output_type": "execute_result"
    }
   ],
   "source": [
    "from sklearn.model_selection import cross_val_predict\n",
    "y_pred=cross_val_predict(classifier,x_test,y_test,cv=kf)\n",
    "y_pred"
   ]
  },
  {
   "cell_type": "code",
   "execution_count": null,
   "metadata": {},
   "outputs": [],
   "source": []
  }
 ],
 "metadata": {
  "kernelspec": {
   "display_name": "Python 3",
   "language": "python",
   "name": "python3"
  },
  "language_info": {
   "codemirror_mode": {
    "name": "ipython",
    "version": 3
   },
   "file_extension": ".py",
   "mimetype": "text/x-python",
   "name": "python",
   "nbconvert_exporter": "python",
   "pygments_lexer": "ipython3",
   "version": "3.7.6"
  }
 },
 "nbformat": 4,
 "nbformat_minor": 4
}

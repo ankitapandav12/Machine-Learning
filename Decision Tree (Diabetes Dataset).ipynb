{
 "cells": [
  {
   "cell_type": "code",
   "execution_count": 1,
   "metadata": {},
   "outputs": [],
   "source": [
    "import pandas as pd\n",
    "import numpy as np"
   ]
  },
  {
   "cell_type": "code",
   "execution_count": 2,
   "metadata": {},
   "outputs": [
    {
     "data": {
      "text/html": [
       "<div>\n",
       "<style scoped>\n",
       "    .dataframe tbody tr th:only-of-type {\n",
       "        vertical-align: middle;\n",
       "    }\n",
       "\n",
       "    .dataframe tbody tr th {\n",
       "        vertical-align: top;\n",
       "    }\n",
       "\n",
       "    .dataframe thead th {\n",
       "        text-align: right;\n",
       "    }\n",
       "</style>\n",
       "<table border=\"1\" class=\"dataframe\">\n",
       "  <thead>\n",
       "    <tr style=\"text-align: right;\">\n",
       "      <th></th>\n",
       "      <th>Pregnancies</th>\n",
       "      <th>Glucose</th>\n",
       "      <th>BloodPressure</th>\n",
       "      <th>SkinThickness</th>\n",
       "      <th>Insulin</th>\n",
       "      <th>BMI</th>\n",
       "      <th>DiabetesPedigreeFunction</th>\n",
       "      <th>Age</th>\n",
       "      <th>Outcome</th>\n",
       "    </tr>\n",
       "  </thead>\n",
       "  <tbody>\n",
       "    <tr>\n",
       "      <th>0</th>\n",
       "      <td>6</td>\n",
       "      <td>148</td>\n",
       "      <td>72</td>\n",
       "      <td>35</td>\n",
       "      <td>0</td>\n",
       "      <td>33.6</td>\n",
       "      <td>0.627</td>\n",
       "      <td>50</td>\n",
       "      <td>1</td>\n",
       "    </tr>\n",
       "    <tr>\n",
       "      <th>1</th>\n",
       "      <td>1</td>\n",
       "      <td>85</td>\n",
       "      <td>66</td>\n",
       "      <td>29</td>\n",
       "      <td>0</td>\n",
       "      <td>26.6</td>\n",
       "      <td>0.351</td>\n",
       "      <td>31</td>\n",
       "      <td>0</td>\n",
       "    </tr>\n",
       "    <tr>\n",
       "      <th>2</th>\n",
       "      <td>8</td>\n",
       "      <td>183</td>\n",
       "      <td>64</td>\n",
       "      <td>0</td>\n",
       "      <td>0</td>\n",
       "      <td>23.3</td>\n",
       "      <td>0.672</td>\n",
       "      <td>32</td>\n",
       "      <td>1</td>\n",
       "    </tr>\n",
       "    <tr>\n",
       "      <th>3</th>\n",
       "      <td>1</td>\n",
       "      <td>89</td>\n",
       "      <td>66</td>\n",
       "      <td>23</td>\n",
       "      <td>94</td>\n",
       "      <td>28.1</td>\n",
       "      <td>0.167</td>\n",
       "      <td>21</td>\n",
       "      <td>0</td>\n",
       "    </tr>\n",
       "    <tr>\n",
       "      <th>4</th>\n",
       "      <td>0</td>\n",
       "      <td>137</td>\n",
       "      <td>40</td>\n",
       "      <td>35</td>\n",
       "      <td>168</td>\n",
       "      <td>43.1</td>\n",
       "      <td>2.288</td>\n",
       "      <td>33</td>\n",
       "      <td>1</td>\n",
       "    </tr>\n",
       "    <tr>\n",
       "      <th>...</th>\n",
       "      <td>...</td>\n",
       "      <td>...</td>\n",
       "      <td>...</td>\n",
       "      <td>...</td>\n",
       "      <td>...</td>\n",
       "      <td>...</td>\n",
       "      <td>...</td>\n",
       "      <td>...</td>\n",
       "      <td>...</td>\n",
       "    </tr>\n",
       "    <tr>\n",
       "      <th>763</th>\n",
       "      <td>10</td>\n",
       "      <td>101</td>\n",
       "      <td>76</td>\n",
       "      <td>48</td>\n",
       "      <td>180</td>\n",
       "      <td>32.9</td>\n",
       "      <td>0.171</td>\n",
       "      <td>63</td>\n",
       "      <td>0</td>\n",
       "    </tr>\n",
       "    <tr>\n",
       "      <th>764</th>\n",
       "      <td>2</td>\n",
       "      <td>122</td>\n",
       "      <td>70</td>\n",
       "      <td>27</td>\n",
       "      <td>0</td>\n",
       "      <td>36.8</td>\n",
       "      <td>0.340</td>\n",
       "      <td>27</td>\n",
       "      <td>0</td>\n",
       "    </tr>\n",
       "    <tr>\n",
       "      <th>765</th>\n",
       "      <td>5</td>\n",
       "      <td>121</td>\n",
       "      <td>72</td>\n",
       "      <td>23</td>\n",
       "      <td>112</td>\n",
       "      <td>26.2</td>\n",
       "      <td>0.245</td>\n",
       "      <td>30</td>\n",
       "      <td>0</td>\n",
       "    </tr>\n",
       "    <tr>\n",
       "      <th>766</th>\n",
       "      <td>1</td>\n",
       "      <td>126</td>\n",
       "      <td>60</td>\n",
       "      <td>0</td>\n",
       "      <td>0</td>\n",
       "      <td>30.1</td>\n",
       "      <td>0.349</td>\n",
       "      <td>47</td>\n",
       "      <td>1</td>\n",
       "    </tr>\n",
       "    <tr>\n",
       "      <th>767</th>\n",
       "      <td>1</td>\n",
       "      <td>93</td>\n",
       "      <td>70</td>\n",
       "      <td>31</td>\n",
       "      <td>0</td>\n",
       "      <td>30.4</td>\n",
       "      <td>0.315</td>\n",
       "      <td>23</td>\n",
       "      <td>0</td>\n",
       "    </tr>\n",
       "  </tbody>\n",
       "</table>\n",
       "<p>768 rows × 9 columns</p>\n",
       "</div>"
      ],
      "text/plain": [
       "     Pregnancies  Glucose  BloodPressure  SkinThickness  Insulin   BMI  \\\n",
       "0              6      148             72             35        0  33.6   \n",
       "1              1       85             66             29        0  26.6   \n",
       "2              8      183             64              0        0  23.3   \n",
       "3              1       89             66             23       94  28.1   \n",
       "4              0      137             40             35      168  43.1   \n",
       "..           ...      ...            ...            ...      ...   ...   \n",
       "763           10      101             76             48      180  32.9   \n",
       "764            2      122             70             27        0  36.8   \n",
       "765            5      121             72             23      112  26.2   \n",
       "766            1      126             60              0        0  30.1   \n",
       "767            1       93             70             31        0  30.4   \n",
       "\n",
       "     DiabetesPedigreeFunction  Age  Outcome  \n",
       "0                       0.627   50        1  \n",
       "1                       0.351   31        0  \n",
       "2                       0.672   32        1  \n",
       "3                       0.167   21        0  \n",
       "4                       2.288   33        1  \n",
       "..                        ...  ...      ...  \n",
       "763                     0.171   63        0  \n",
       "764                     0.340   27        0  \n",
       "765                     0.245   30        0  \n",
       "766                     0.349   47        1  \n",
       "767                     0.315   23        0  \n",
       "\n",
       "[768 rows x 9 columns]"
      ]
     },
     "execution_count": 2,
     "metadata": {},
     "output_type": "execute_result"
    }
   ],
   "source": [
    "dataset=pd.read_csv(r\"C:\\Users\\Sushant\\Desktop\\Datasets\\diabetes_dataset.csv\")\n",
    "dataset"
   ]
  },
  {
   "cell_type": "code",
   "execution_count": 3,
   "metadata": {},
   "outputs": [
    {
     "name": "stdout",
     "output_type": "stream",
     "text": [
      "<class 'pandas.core.frame.DataFrame'>\n",
      "RangeIndex: 768 entries, 0 to 767\n",
      "Data columns (total 9 columns):\n",
      " #   Column                    Non-Null Count  Dtype  \n",
      "---  ------                    --------------  -----  \n",
      " 0   Pregnancies               768 non-null    int64  \n",
      " 1   Glucose                   768 non-null    int64  \n",
      " 2   BloodPressure             768 non-null    int64  \n",
      " 3   SkinThickness             768 non-null    int64  \n",
      " 4   Insulin                   768 non-null    int64  \n",
      " 5   BMI                       768 non-null    float64\n",
      " 6   DiabetesPedigreeFunction  768 non-null    float64\n",
      " 7   Age                       768 non-null    int64  \n",
      " 8   Outcome                   768 non-null    int64  \n",
      "dtypes: float64(2), int64(7)\n",
      "memory usage: 54.1 KB\n"
     ]
    }
   ],
   "source": [
    "dataset.info()"
   ]
  },
  {
   "cell_type": "code",
   "execution_count": 4,
   "metadata": {},
   "outputs": [
    {
     "data": {
      "text/plain": [
       "Pregnancies                 0\n",
       "Glucose                     0\n",
       "BloodPressure               0\n",
       "SkinThickness               0\n",
       "Insulin                     0\n",
       "BMI                         0\n",
       "DiabetesPedigreeFunction    0\n",
       "Age                         0\n",
       "Outcome                     0\n",
       "dtype: int64"
      ]
     },
     "execution_count": 4,
     "metadata": {},
     "output_type": "execute_result"
    }
   ],
   "source": [
    "dataset.isnull().sum()"
   ]
  },
  {
   "cell_type": "code",
   "execution_count": 8,
   "metadata": {},
   "outputs": [],
   "source": [
    "x=dataset.iloc[:,:-1].values\n",
    "y=dataset.iloc[:,-1].values"
   ]
  },
  {
   "cell_type": "code",
   "execution_count": 9,
   "metadata": {},
   "outputs": [],
   "source": [
    "from imblearn.over_sampling import RandomOverSampler\n",
    "ro=RandomOverSampler()\n",
    "x_data,y_data=ro.fit_resample(x,y)"
   ]
  },
  {
   "cell_type": "code",
   "execution_count": 10,
   "metadata": {},
   "outputs": [
    {
     "name": "stdout",
     "output_type": "stream",
     "text": [
      "Actual data Counter({0: 500, 1: 268})\n",
      "Artificial Counter({1: 500, 0: 500})\n"
     ]
    }
   ],
   "source": [
    "from collections import Counter\n",
    "print(\"Actual data\",Counter(y))\n",
    "print(\"Artificial\",Counter(y_data))"
   ]
  },
  {
   "cell_type": "code",
   "execution_count": 11,
   "metadata": {},
   "outputs": [
    {
     "name": "stdout",
     "output_type": "stream",
     "text": [
      "KFold(n_splits=2, random_state=0, shuffle=True)\n"
     ]
    }
   ],
   "source": [
    "from sklearn.model_selection import KFold\n",
    "kf=KFold(n_splits=2,random_state=0,shuffle=True)\n",
    "kf.get_n_splits(x_data)\n",
    "print(kf)"
   ]
  },
  {
   "cell_type": "code",
   "execution_count": 12,
   "metadata": {},
   "outputs": [
    {
     "name": "stdout",
     "output_type": "stream",
     "text": [
      "TRAIN: [  0   3   4   7   9  11  13  16  19  23  24  25  26  28  29  32  33  36\n",
      "  41  42  43  44  47  53  56  57  58  59  61  63  67  69  70  72  73  74\n",
      "  80  82  83  84  86  87  88  89  91  93  94  95  96  98  99 102 106 107\n",
      " 110 111 112 114 115 117 119 120 121 123 126 128 129 130 131 132 134 135\n",
      " 136 137 138 139 143 146 147 148 149 151 152 153 160 163 164 166 168 169\n",
      " 173 174 176 177 180 182 183 184 185 189 191 192 194 195 197 199 201 203\n",
      " 207 209 212 213 216 217 219 221 223 225 226 227 228 232 233 234 237 244\n",
      " 246 248 254 256 257 259 260 265 269 273 274 275 276 277 280 281 282 284\n",
      " 286 287 288 289 290 291 292 296 297 300 305 307 314 321 322 323 324 326\n",
      " 327 328 329 335 336 339 340 341 343 347 348 349 353 355 357 359 360 365\n",
      " 368 369 370 371 373 376 377 381 383 387 388 392 393 394 396 398 400 401\n",
      " 404 405 407 410 411 414 417 419 421 423 426 428 429 430 431 433 437 438\n",
      " 441 442 444 445 446 448 449 450 454 455 459 461 463 464 468 469 470 472\n",
      " 473 475 476 480 486 488 490 498 499 502 504 507 508 509 510 512 514 515\n",
      " 517 519 525 528 530 532 534 536 537 539 540 541 542 543 544 547 550 551\n",
      " 552 554 555 556 559 560 561 562 563 564 565 566 567 570 572 573 574 575\n",
      " 579 581 584 586 589 591 593 594 595 598 599 600 606 607 609 610 611 616\n",
      " 617 619 621 623 626 628 629 631 633 634 637 639 640 642 645 649 651 655\n",
      " 656 657 659 660 662 663 665 668 669 673 674 675 677 678 681 682 684 686\n",
      " 690 692 694 696 697 699 701 703 704 705 707 708 709 712 714 715 716 719\n",
      " 720 723 726 727 728 730 732 734 735 739 742 743 744 747 749 754 755 756\n",
      " 758 759 761 762 763 764 768 770 771 772 774 776 777 778 779 781 782 787\n",
      " 791 793 797 799 800 802 804 806 807 810 812 815 816 820 821 824 825 828\n",
      " 829 831 833 835 836 838 839 840 841 842 843 845 846 847 849 850 851 853\n",
      " 854 861 866 868 869 870 871 872 877 879 880 881 882 887 888 889 890 891\n",
      " 892 893 896 897 900 901 903 907 910 911 914 916 917 921 925 928 930 931\n",
      " 932 933 935 936 937 941 943 947 949 951 953 954 955 961 962 965 966 967\n",
      " 968 970 972 973 974 976 977 978 980 981 983 994 995 997] TEST: [  1   2   5   6   8  10  12  14  15  17  18  20  21  22  27  30  31  34\n",
      "  35  37  38  39  40  45  46  48  49  50  51  52  54  55  60  62  64  65\n",
      "  66  68  71  75  76  77  78  79  81  85  90  92  97 100 101 103 104 105\n",
      " 108 109 113 116 118 122 124 125 127 133 140 141 142 144 145 150 154 155\n",
      " 156 157 158 159 161 162 165 167 170 171 172 175 178 179 181 186 187 188\n",
      " 190 193 196 198 200 202 204 205 206 208 210 211 214 215 218 220 222 224\n",
      " 229 230 231 235 236 238 239 240 241 242 243 245 247 249 250 251 252 253\n",
      " 255 258 261 262 263 264 266 267 268 270 271 272 278 279 283 285 293 294\n",
      " 295 298 299 301 302 303 304 306 308 309 310 311 312 313 315 316 317 318\n",
      " 319 320 325 330 331 332 333 334 337 338 342 344 345 346 350 351 352 354\n",
      " 356 358 361 362 363 364 366 367 372 374 375 378 379 380 382 384 385 386\n",
      " 389 390 391 395 397 399 402 403 406 408 409 412 413 415 416 418 420 422\n",
      " 424 425 427 432 434 435 436 439 440 443 447 451 452 453 456 457 458 460\n",
      " 462 465 466 467 471 474 477 478 479 481 482 483 484 485 487 489 491 492\n",
      " 493 494 495 496 497 500 501 503 505 506 511 513 516 518 520 521 522 523\n",
      " 524 526 527 529 531 533 535 538 545 546 548 549 553 557 558 568 569 571\n",
      " 576 577 578 580 582 583 585 587 588 590 592 596 597 601 602 603 604 605\n",
      " 608 612 613 614 615 618 620 622 624 625 627 630 632 635 636 638 641 643\n",
      " 644 646 647 648 650 652 653 654 658 661 664 666 667 670 671 672 676 679\n",
      " 680 683 685 687 688 689 691 693 695 698 700 702 706 710 711 713 717 718\n",
      " 721 722 724 725 729 731 733 736 737 738 740 741 745 746 748 750 751 752\n",
      " 753 757 760 765 766 767 769 773 775 780 783 784 785 786 788 789 790 792\n",
      " 794 795 796 798 801 803 805 808 809 811 813 814 817 818 819 822 823 826\n",
      " 827 830 832 834 837 844 848 852 855 856 857 858 859 860 862 863 864 865\n",
      " 867 873 874 875 876 878 883 884 885 886 894 895 898 899 902 904 905 906\n",
      " 908 909 912 913 915 918 919 920 922 923 924 926 927 929 934 938 939 940\n",
      " 942 944 945 946 948 950 952 956 957 958 959 960 963 964 969 971 975 979\n",
      " 982 984 985 986 987 988 989 990 991 992 993 996 998 999]\n",
      "TRAIN: [  1   2   5   6   8  10  12  14  15  17  18  20  21  22  27  30  31  34\n",
      "  35  37  38  39  40  45  46  48  49  50  51  52  54  55  60  62  64  65\n",
      "  66  68  71  75  76  77  78  79  81  85  90  92  97 100 101 103 104 105\n",
      " 108 109 113 116 118 122 124 125 127 133 140 141 142 144 145 150 154 155\n",
      " 156 157 158 159 161 162 165 167 170 171 172 175 178 179 181 186 187 188\n",
      " 190 193 196 198 200 202 204 205 206 208 210 211 214 215 218 220 222 224\n",
      " 229 230 231 235 236 238 239 240 241 242 243 245 247 249 250 251 252 253\n",
      " 255 258 261 262 263 264 266 267 268 270 271 272 278 279 283 285 293 294\n",
      " 295 298 299 301 302 303 304 306 308 309 310 311 312 313 315 316 317 318\n",
      " 319 320 325 330 331 332 333 334 337 338 342 344 345 346 350 351 352 354\n",
      " 356 358 361 362 363 364 366 367 372 374 375 378 379 380 382 384 385 386\n",
      " 389 390 391 395 397 399 402 403 406 408 409 412 413 415 416 418 420 422\n",
      " 424 425 427 432 434 435 436 439 440 443 447 451 452 453 456 457 458 460\n",
      " 462 465 466 467 471 474 477 478 479 481 482 483 484 485 487 489 491 492\n",
      " 493 494 495 496 497 500 501 503 505 506 511 513 516 518 520 521 522 523\n",
      " 524 526 527 529 531 533 535 538 545 546 548 549 553 557 558 568 569 571\n",
      " 576 577 578 580 582 583 585 587 588 590 592 596 597 601 602 603 604 605\n",
      " 608 612 613 614 615 618 620 622 624 625 627 630 632 635 636 638 641 643\n",
      " 644 646 647 648 650 652 653 654 658 661 664 666 667 670 671 672 676 679\n",
      " 680 683 685 687 688 689 691 693 695 698 700 702 706 710 711 713 717 718\n",
      " 721 722 724 725 729 731 733 736 737 738 740 741 745 746 748 750 751 752\n",
      " 753 757 760 765 766 767 769 773 775 780 783 784 785 786 788 789 790 792\n",
      " 794 795 796 798 801 803 805 808 809 811 813 814 817 818 819 822 823 826\n",
      " 827 830 832 834 837 844 848 852 855 856 857 858 859 860 862 863 864 865\n",
      " 867 873 874 875 876 878 883 884 885 886 894 895 898 899 902 904 905 906\n",
      " 908 909 912 913 915 918 919 920 922 923 924 926 927 929 934 938 939 940\n",
      " 942 944 945 946 948 950 952 956 957 958 959 960 963 964 969 971 975 979\n",
      " 982 984 985 986 987 988 989 990 991 992 993 996 998 999] TEST: [  0   3   4   7   9  11  13  16  19  23  24  25  26  28  29  32  33  36\n",
      "  41  42  43  44  47  53  56  57  58  59  61  63  67  69  70  72  73  74\n",
      "  80  82  83  84  86  87  88  89  91  93  94  95  96  98  99 102 106 107\n",
      " 110 111 112 114 115 117 119 120 121 123 126 128 129 130 131 132 134 135\n",
      " 136 137 138 139 143 146 147 148 149 151 152 153 160 163 164 166 168 169\n",
      " 173 174 176 177 180 182 183 184 185 189 191 192 194 195 197 199 201 203\n",
      " 207 209 212 213 216 217 219 221 223 225 226 227 228 232 233 234 237 244\n",
      " 246 248 254 256 257 259 260 265 269 273 274 275 276 277 280 281 282 284\n",
      " 286 287 288 289 290 291 292 296 297 300 305 307 314 321 322 323 324 326\n",
      " 327 328 329 335 336 339 340 341 343 347 348 349 353 355 357 359 360 365\n",
      " 368 369 370 371 373 376 377 381 383 387 388 392 393 394 396 398 400 401\n",
      " 404 405 407 410 411 414 417 419 421 423 426 428 429 430 431 433 437 438\n",
      " 441 442 444 445 446 448 449 450 454 455 459 461 463 464 468 469 470 472\n",
      " 473 475 476 480 486 488 490 498 499 502 504 507 508 509 510 512 514 515\n",
      " 517 519 525 528 530 532 534 536 537 539 540 541 542 543 544 547 550 551\n",
      " 552 554 555 556 559 560 561 562 563 564 565 566 567 570 572 573 574 575\n",
      " 579 581 584 586 589 591 593 594 595 598 599 600 606 607 609 610 611 616\n",
      " 617 619 621 623 626 628 629 631 633 634 637 639 640 642 645 649 651 655\n",
      " 656 657 659 660 662 663 665 668 669 673 674 675 677 678 681 682 684 686\n",
      " 690 692 694 696 697 699 701 703 704 705 707 708 709 712 714 715 716 719\n",
      " 720 723 726 727 728 730 732 734 735 739 742 743 744 747 749 754 755 756\n",
      " 758 759 761 762 763 764 768 770 771 772 774 776 777 778 779 781 782 787\n",
      " 791 793 797 799 800 802 804 806 807 810 812 815 816 820 821 824 825 828\n",
      " 829 831 833 835 836 838 839 840 841 842 843 845 846 847 849 850 851 853\n",
      " 854 861 866 868 869 870 871 872 877 879 880 881 882 887 888 889 890 891\n",
      " 892 893 896 897 900 901 903 907 910 911 914 916 917 921 925 928 930 931\n",
      " 932 933 935 936 937 941 943 947 949 951 953 954 955 961 962 965 966 967\n",
      " 968 970 972 973 974 976 977 978 980 981 983 994 995 997]\n"
     ]
    }
   ],
   "source": [
    "for train_index,test_index in kf.split(x_data):\n",
    "    print(\"TRAIN:\",train_index,\"TEST:\",test_index)\n",
    "    x_train,x_test=x_data[train_index],x_data[test_index]\n",
    "    y_train,y_test=y_data[train_index],y_data[test_index]"
   ]
  },
  {
   "cell_type": "code",
   "execution_count": 13,
   "metadata": {},
   "outputs": [
    {
     "name": "stdout",
     "output_type": "stream",
     "text": [
      "[0.704 0.728]\n",
      "71.6\n"
     ]
    },
    {
     "data": {
      "image/png": "[encoded data removed]",
      "text/plain": [
       "<Figure size 432x288 with 1 Axes>"
      ]
     },
     "metadata": {
      "needs_background": "light"
     },
     "output_type": "display_data"
    }
   ],
   "source": [
    "from sklearn import tree\n",
    "from sklearn.tree import DecisionTreeClassifier\n",
    "classifier=DecisionTreeClassifier(criterion=\"entropy\",random_state=0)\n",
    "classifier=classifier.fit(x_data,y_data)\n",
    "tree.plot_tree(classifier)\n",
    "\n",
    "from sklearn.model_selection import cross_val_score\n",
    "scores=cross_val_score(classifier,x_train,y_train,cv=kf)\n",
    "print(scores)\n",
    "print(np.mean(scores)*100)"
   ]
  },
  {
   "cell_type": "code",
   "execution_count": 14,
   "metadata": {},
   "outputs": [
    {
     "data": {
      "text/plain": [
       "array([1, 0, 1, 1, 0, 1, 1, 1, 0, 1, 1, 0, 1, 0, 1, 0, 0, 1, 1, 0, 1, 1,\n",
       "       0, 1, 1, 0, 0, 0, 1, 0, 1, 1, 0, 1, 1, 0, 0, 1, 0, 1, 0, 0, 1, 0,\n",
       "       1, 1, 0, 1, 0, 1, 0, 0, 0, 1, 1, 1, 0, 1, 1, 0, 0, 0, 0, 0, 1, 1,\n",
       "       1, 1, 1, 1, 0, 0, 0, 0, 1, 0, 0, 1, 1, 1, 0, 0, 1, 0, 1, 0, 0, 1,\n",
       "       1, 0, 0, 1, 0, 0, 0, 0, 0, 1, 1, 0, 0, 1, 0, 1, 0, 1, 1, 0, 1, 1,\n",
       "       1, 1, 0, 1, 1, 1, 1, 0, 0, 1, 1, 0, 0, 0, 1, 1, 1, 0, 1, 0, 0, 1,\n",
       "       1, 0, 0, 0, 1, 0, 0, 0, 0, 1, 1, 0, 1, 1, 0, 0, 0, 1, 1, 0, 1, 1,\n",
       "       1, 0, 1, 0, 1, 1, 1, 1, 1, 0, 1, 1, 1, 1, 0, 0, 1, 0, 0, 1, 0, 1,\n",
       "       1, 1, 1, 0, 0, 1, 1, 1, 1, 0, 0, 0, 0, 0, 1, 0, 0, 1, 0, 0, 1, 1,\n",
       "       1, 0, 0, 1, 1, 0, 1, 1, 0, 0, 0, 1, 0, 0, 1, 0, 0, 0, 0, 0, 1, 1,\n",
       "       0, 0, 0, 0, 0, 1, 1, 0, 1, 0, 1, 0, 1, 0, 1, 1, 1, 1, 1, 0, 0, 1,\n",
       "       1, 1, 0, 0, 0, 0, 0, 0, 0, 1, 1, 0, 0, 0, 0, 0, 1, 1, 0, 1, 1, 0,\n",
       "       1, 0, 1, 1, 0, 1, 0, 0, 0, 1, 1, 0, 1, 0, 1, 0, 0, 0, 1, 1, 1, 0,\n",
       "       1, 1, 1, 0, 1, 1, 0, 0, 0, 1, 1, 0, 0, 0, 1, 0, 0, 0, 1, 0, 0, 0,\n",
       "       0, 0, 0, 1, 0, 0, 1, 0, 0, 0, 0, 0, 1, 0, 0, 1, 0, 0, 0, 1, 1, 1,\n",
       "       0, 1, 1, 0, 1, 1, 0, 0, 0, 0, 0, 0, 0, 0, 0, 1, 0, 0, 0, 1, 0, 1,\n",
       "       1, 1, 0, 1, 1, 1, 1, 0, 0, 0, 0, 1, 1, 0, 1, 0, 1, 1, 0, 1, 1, 1,\n",
       "       1, 1, 0, 1, 0, 1, 1, 0, 1, 0, 1, 0, 1, 0, 1, 1, 1, 1, 1, 1, 1, 1,\n",
       "       1, 1, 0, 1, 1, 1, 1, 1, 1, 1, 1, 1, 1, 1, 1, 0, 1, 1, 1, 1, 1, 1,\n",
       "       1, 1, 1, 1, 0, 0, 1, 1, 1, 1, 1, 1, 1, 0, 1, 1, 1, 1, 1, 1, 1, 1,\n",
       "       0, 1, 1, 0, 0, 1, 1, 1, 1, 1, 1, 1, 1, 1, 1, 1, 1, 1, 1, 1, 1, 0,\n",
       "       1, 1, 1, 1, 1, 1, 1, 1, 1, 1, 1, 0, 0, 1, 1, 1, 0, 1, 1, 1, 1, 1,\n",
       "       1, 1, 1, 1, 1, 1, 0, 1, 1, 1, 1, 0, 1, 1, 1, 1], dtype=int64)"
      ]
     },
     "execution_count": 14,
     "metadata": {},
     "output_type": "execute_result"
    }
   ],
   "source": [
    "from sklearn.model_selection import cross_val_predict\n",
    "y_pred=cross_val_predict(classifier,x_test,y_test,cv=kf)\n",
    "y_pred"
   ]
  }
 ],
 "metadata": {
  "kernelspec": {
   "display_name": "Python 3",
   "language": "python",
   "name": "python3"
  },
  "language_info": {
   "codemirror_mode": {
    "name": "ipython",
    "version": 3
   },
   "file_extension": ".py",
   "mimetype": "text/x-python",
   "name": "python",
   "nbconvert_exporter": "python",
   "pygments_lexer": "ipython3",
   "version": "3.7.6"
  }
 },
 "nbformat": 4,
 "nbformat_minor": 4
}
